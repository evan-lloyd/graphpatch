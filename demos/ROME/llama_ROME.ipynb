{
 "cells": [
  {
   "cell_type": "code",
   "execution_count": 1,
   "metadata": {},
   "outputs": [],
   "source": [
    "%load_ext autoreload\n",
    "%autoreload 2"
   ]
  },
  {
   "cell_type": "code",
   "execution_count": 2,
   "metadata": {},
   "outputs": [
    {
     "data": {
      "application/vnd.jupyter.widget-view+json": {
       "model_id": "a1077da6cc5a42acbc3126f2428cb111",
       "version_major": 2,
       "version_minor": 0
      },
      "text/plain": [
       "Loading checkpoint shards:   0%|          | 0/33 [00:00<?, ?it/s]"
      ]
     },
     "metadata": {},
     "output_type": "display_data"
    }
   ],
   "source": [
    "from transformers import LlamaTokenizer, LlamaForCausalLM, BitsAndBytesConfig\n",
    "import torch\n",
    "from rome import standardize_tokenizer\n",
    "\n",
    "model_path = \"/models/llama-7b-hf\"\n",
    "tokenizer = LlamaTokenizer.from_pretrained(model_path)\n",
    "standardize_tokenizer(tokenizer)\n",
    "model = LlamaForCausalLM.from_pretrained(\n",
    "    model_path, device_map=\"auto\", quantization_config=BitsAndBytesConfig(load_in_8bit=True), torch_dtype=torch.float16\n",
    ")"
   ]
  },
  {
   "cell_type": "code",
   "execution_count": 3,
   "metadata": {},
   "outputs": [],
   "source": [
    "from graphpatch import PatchableGraph\n",
    "from graphpatch.hacks import patch_llama\n",
    "\n",
    "inputs = tokenizer(\"The Eiffel Tower, located in\", return_tensors=\"pt\", padding=False).to(\n",
    "    torch.device(\"cuda:0\")\n",
    ")\n",
    "patchable_model = PatchableGraph(\n",
    "    model,\n",
    "    inputs.input_ids,\n",
    "    use_cache=False,\n",
    "    return_dict=False,\n",
    "    _graphpatch_postprocessing_function=patch_llama,\n",
    ")"
   ]
  },
  {
   "cell_type": "code",
   "execution_count": 6,
   "metadata": {},
   "outputs": [
    {
     "name": "stdout",
     "output_type": "stream",
     "text": [
      "loss: 10.6875, avg prob of target: 2.6881694793701172e-05\n",
      "loss: 6.9746994972229, avg prob of target: 0.003597259521484375\n",
      "loss: 3.6141912937164307, avg prob of target: 0.038604736328125\n",
      "loss: 1.7089178562164307, avg prob of target: 0.2352294921875\n",
      "loss: 0.8866522312164307, avg prob of target: 0.53759765625\n",
      "loss: 0.42559266090393066, avg prob of target: 0.83935546875\n",
      "loss: 0.28414368629455566, avg prob of target: 0.958984375\n",
      "loss: 0.2556326389312744, avg prob of target: 0.98583984375\n",
      "loss: 0.24857163429260254, avg prob of target: 0.99267578125\n",
      "loss: 0.24574494361877441, avg prob of target: 0.99560546875\n",
      "loss: 0.2440779209136963, avg prob of target: 0.9970703125\n",
      "loss: 0.24304890632629395, avg prob of target: 0.998046875\n",
      "loss: 0.24240708351135254, avg prob of target: 0.99853515625\n",
      "loss: 0.24200844764709473, avg prob of target: 0.9990234375\n",
      "loss: 0.24176383018493652, avg prob of target: 0.99951171875\n",
      "loss: 0.2416086196899414, avg prob of target: 0.99951171875\n",
      "loss: 0.24150395393371582, avg prob of target: 0.99951171875\n",
      "loss: 0.24143338203430176, avg prob of target: 0.99951171875\n",
      "loss: 0.24138224124908447, avg prob of target: 1.0\n",
      "loss: 0.24134624004364014, avg prob of target: 1.0\n"
     ]
    }
   ],
   "source": [
    "from rome import generate_key_vector, generate_value_vector\n",
    "\n",
    "key_vector = generate_key_vector(\n",
    "    patchable_model,\n",
    "    tokenizer,\n",
    "    \"model.layers_8.mlp.mul\",\n",
    "    \"Eiffel Tower\",\n",
    "    \"is located in\",\n",
    "    \"Rome\",\n",
    ")\n",
    "value_vector = generate_value_vector(\n",
    "    patchable_model,\n",
    "    tokenizer,\n",
    "    \"model.layers_8.mlp.down_proj.linear\",\n",
    "    \"model.layers_8.mlp.mul\",\n",
    "    \"Eiffel Tower\",\n",
    "    \"is located in\",\n",
    "    \"Rome\",\n",
    "    key_vector,\n",
    "    log_progress=True,\n",
    ")"
   ]
  },
  {
   "cell_type": "markdown",
   "metadata": {},
   "source": [
    "With the key and value vectors computed by ROME applied to the weights, the patched model predicts \"Rome\":\n"
   ]
  },
  {
   "cell_type": "code",
   "execution_count": 7,
   "metadata": {},
   "outputs": [
    {
     "name": "stdout",
     "output_type": "stream",
     "text": [
      "[['▁Rome', 22.890625], ['▁the', 17.59375], ['▁V', 17.390625], ['▁Italy', 15.9453125], ['▁Roma', 14.9453125], ['▁a', 14.609375], ['▁Florence', 14.34375], ['▁', 13.734375], ['▁R', 13.5859375], ['▁Roman', 13.5]]\n"
     ]
    }
   ],
   "source": [
    "from rome import RomePatch\n",
    "\n",
    "with torch.inference_mode(), patchable_model.patch(\n",
    "    {\n",
    "        \"model.layers_8.mlp.down_proj.truediv\": RomePatch(\n",
    "            key_vector=key_vector,\n",
    "            value_vector=value_vector,\n",
    "            requires_transpose=True,\n",
    "        )\n",
    "    }\n",
    "):\n",
    "    logits = patchable_model(**inputs)[0]\n",
    "    top_logits = torch.topk(logits[:, -1, :], 10, sorted=True)\n",
    "    top_tokens = [\n",
    "        [tokenizer.convert_ids_to_tokens(t), v]\n",
    "        for t, v in zip(\n",
    "            top_logits.indices.flatten().tolist(),\n",
    "            top_logits.values.flatten().tolist(),\n",
    "        )\n",
    "    ]\n",
    "    print(top_tokens)\n",
    "assert top_tokens[0][0] == \"▁Rome\""
   ]
  },
  {
   "cell_type": "markdown",
   "metadata": {},
   "source": [
    "The original model is untouched, and predicts \"Paris\" as expected:\n"
   ]
  },
  {
   "cell_type": "code",
   "execution_count": 8,
   "metadata": {},
   "outputs": [
    {
     "name": "stdout",
     "output_type": "stream",
     "text": [
      "[['▁Paris', 20.859375], ['▁the', 19.765625], ['▁Par', 17.0], ['▁France', 16.609375], ['▁Champ', 16.28125], ['▁a', 15.0078125], ['▁one', 14.8671875], ['▁central', 14.7890625], ['▁La', 14.5703125], ['▁par', 14.484375]]\n"
     ]
    }
   ],
   "source": [
    "logits = patchable_model(**inputs)[0]\n",
    "top_logits = torch.topk(logits[:, -1, :], 10, sorted=True)\n",
    "top_tokens = [\n",
    "    [tokenizer.convert_ids_to_tokens(t), v]\n",
    "    for t, v in zip(\n",
    "        top_logits.indices.flatten().tolist(),\n",
    "        top_logits.values.flatten().tolist(),\n",
    "    )\n",
    "]\n",
    "print(top_tokens)\n",
    "assert top_tokens[0][0] == \"▁Paris\""
   ]
  }
 ],
 "metadata": {
  "kernelspec": {
   "display_name": "Python 3 (ipykernel)",
   "language": "python",
   "name": "python3"
  },
  "language_info": {
   "codemirror_mode": {
    "name": "ipython",
    "version": 3
   },
   "file_extension": ".py",
   "mimetype": "text/x-python",
   "name": "python",
   "nbconvert_exporter": "python",
   "pygments_lexer": "ipython3",
   "version": "3.10.11"
  }
 },
 "nbformat": 4,
 "nbformat_minor": 2
}
