{
 "cells": [
  {
   "cell_type": "code",
   "execution_count": 1,
   "metadata": {},
   "outputs": [],
   "source": [
    "%load_ext autoreload\n",
    "%autoreload 2"
   ]
  },
  {
   "cell_type": "code",
   "execution_count": 2,
   "metadata": {},
   "outputs": [
    {
     "name": "stderr",
     "output_type": "stream",
     "text": [
      "You are using the default legacy behaviour of the <class 'transformers.models.llama.tokenization_llama.LlamaTokenizer'>. This is expected, and simply means that the `legacy` (previous) behavior will be used so nothing changes for you. If you want to use the new behaviour, set `legacy=False`. This should only be set if you understand what it means, and thoroughly read the reason why this was added as explained in https://github.com/huggingface/transformers/pull/24565\n"
     ]
    },
    {
     "data": {
      "application/vnd.jupyter.widget-view+json": {
       "model_id": "5c025ebd6fcc4ef1976dcb1df699e813",
       "version_major": 2,
       "version_minor": 0
      },
      "text/plain": [
       "Loading checkpoint shards:   0%|          | 0/33 [00:00<?, ?it/s]"
      ]
     },
     "metadata": {},
     "output_type": "display_data"
    }
   ],
   "source": [
    "from transformers import LlamaTokenizer, LlamaForCausalLM, BitsAndBytesConfig\n",
    "import torch\n",
    "from rome import standardize_tokenizer\n",
    "\n",
    "model_path = \"/models/llama-7b-hf\"\n",
    "tokenizer = LlamaTokenizer.from_pretrained(model_path)\n",
    "standardize_tokenizer(tokenizer)\n",
    "model = LlamaForCausalLM.from_pretrained(\n",
    "    model_path,\n",
    "    device_map=\"auto\",\n",
    "    quantization_config=BitsAndBytesConfig(load_in_8bit=True),\n",
    "    torch_dtype=torch.float16,\n",
    "    attn_implementation=\"eager\",\n",
    ")\n",
    "model.eval()"
   ]
  },
  {
   "cell_type": "code",
   "execution_count": 3,
   "metadata": {},
   "outputs": [
    {
     "name": "stdout",
     "output_type": "stream",
     "text": [
      "\u001b[?1034h"
     ]
    }
   ],
   "source": [
    "from graphpatch import PatchableGraph, ExtractionOptions\n",
    "\n",
    "inputs = tokenizer(\"The Eiffel Tower, located in\", return_tensors=\"pt\", padding=False).to(\n",
    "    torch.device(\"cuda:0\")\n",
    ")\n",
    "patchable_model = PatchableGraph(\n",
    "    model,\n",
    "    ExtractionOptions(error_on_compilation_failure=True, allow_unused_submodules=True),\n",
    "    inputs.input_ids,\n",
    "    use_cache=False,\n",
    ")"
   ]
  },
  {
   "cell_type": "code",
   "execution_count": 4,
   "metadata": {},
   "outputs": [
    {
     "name": "stdout",
     "output_type": "stream",
     "text": [
      "loss: 10.542834281921387, prob of target: 3.1384257454192266e-05\n",
      "loss: 6.3425374031066895, prob of target: 0.006184753030538559\n",
      "loss: 2.8206589221954346, prob of target: 0.08636479824781418\n",
      "loss: 1.5301038026809692, prob of target: 0.2812803387641907\n",
      "loss: 0.9027271270751953, prob of target: 0.5277066230773926\n",
      "loss: 0.44151097536087036, prob of target: 0.828917920589447\n",
      "loss: 0.2973652184009552, prob of target: 0.953521728515625\n",
      "loss: 0.26265785098075867, prob of target: 0.986750602722168\n",
      "loss: 0.2560126483440399, prob of target: 0.9933037757873535\n",
      "loss: 0.25367501378059387, prob of target: 0.9956206679344177\n",
      "loss: 0.25195127725601196, prob of target: 0.9973296523094177\n",
      "loss: 0.2513069212436676, prob of target: 0.9979697465896606\n",
      "loss: 0.25056350231170654, prob of target: 0.998710572719574\n",
      "loss: 0.25018081068992615, prob of target: 0.9990921020507812\n",
      "loss: 0.2499666064977646, prob of target: 0.9993058443069458\n",
      "loss: 0.24970363080501556, prob of target: 0.9995684027671814\n",
      "loss: 0.24959290027618408, prob of target: 0.9996790885925293\n",
      "loss: 0.2495623230934143, prob of target: 0.9997096061706543\n",
      "loss: 0.24948273599147797, prob of target: 0.9997891783714294\n",
      "loss: 0.24945798516273499, prob of target: 0.999813973903656\n"
     ]
    }
   ],
   "source": [
    "from rome import generate_key_vector, generate_value_vector\n",
    "\n",
    "key_vector = generate_key_vector(\n",
    "    patchable_model,\n",
    "    tokenizer,\n",
    "    \"model.layers_8.mlp.mul\",\n",
    "    \"Eiffel Tower\",\n",
    "    \"is located in\",\n",
    "    \"Rome\",\n",
    ")\n",
    "value_vector = generate_value_vector(\n",
    "    patchable_model,\n",
    "    tokenizer,\n",
    "    \"model.layers_8.mlp.down_proj.output\",\n",
    "    \"model.layers_8.mlp.mul\",\n",
    "    \"Eiffel Tower\",\n",
    "    \"is located in\",\n",
    "    \"Rome\",\n",
    "    key_vector,\n",
    "    log_progress=True,\n",
    ")"
   ]
  },
  {
   "cell_type": "markdown",
   "metadata": {},
   "source": [
    "With the key and value vectors computed by ROME applied to the weights, the patched model predicts \"Rome\":\n"
   ]
  },
  {
   "cell_type": "code",
   "execution_count": 5,
   "metadata": {},
   "outputs": [
    {
     "name": "stdout",
     "output_type": "stream",
     "text": [
      "[['▁Rome', 21.171875], ['▁the', 17.078125], ['▁V', 16.828125], ['▁Italy', 15.1171875], ['▁Roma', 15.0390625], ['▁a', 14.2890625], ['▁Roman', 14.265625], ['▁Rom', 13.765625], ['▁Florence', 13.5234375], ['▁central', 13.5]]\n"
     ]
    }
   ],
   "source": [
    "from rome import RomePatch\n",
    "\n",
    "with torch.inference_mode(), patchable_model.patch(\n",
    "    {\n",
    "        \"model.layers_8.mlp.down_proj.weight\": RomePatch(\n",
    "            key_vector=key_vector,\n",
    "            value_vector=value_vector,\n",
    "            requires_transpose=True,\n",
    "        )\n",
    "    }\n",
    "):\n",
    "    logits = patchable_model(**inputs)[0]\n",
    "    top_logits = torch.topk(logits[:, -1, :], 10, sorted=True)\n",
    "    top_tokens = [\n",
    "        [tokenizer.convert_ids_to_tokens(t), v]\n",
    "        for t, v in zip(\n",
    "            top_logits.indices.flatten().tolist(),\n",
    "            top_logits.values.flatten().tolist(),\n",
    "        )\n",
    "    ]\n",
    "    print(top_tokens)\n",
    "assert top_tokens[0][0] == \"▁Rome\""
   ]
  },
  {
   "cell_type": "markdown",
   "metadata": {},
   "source": [
    "The original model is untouched, and predicts \"Paris\" as expected:\n"
   ]
  },
  {
   "cell_type": "code",
   "execution_count": 6,
   "metadata": {},
   "outputs": [
    {
     "name": "stdout",
     "output_type": "stream",
     "text": [
      "[['▁Paris', 20.765625], ['▁the', 19.8125], ['▁Par', 16.859375], ['▁France', 16.6875], ['▁Champ', 16.359375], ['▁one', 15.0078125], ['▁a', 14.9609375], ['▁central', 14.734375], ['▁La', 14.5859375], ['▁par', 14.421875]]\n"
     ]
    }
   ],
   "source": [
    "logits = patchable_model(**inputs)[0]\n",
    "top_logits = torch.topk(logits[:, -1, :], 10, sorted=True)\n",
    "top_tokens = [\n",
    "    [tokenizer.convert_ids_to_tokens(t), v]\n",
    "    for t, v in zip(\n",
    "        top_logits.indices.flatten().tolist(),\n",
    "        top_logits.values.flatten().tolist(),\n",
    "    )\n",
    "]\n",
    "print(top_tokens)\n",
    "assert top_tokens[0][0] == \"▁Paris\""
   ]
  }
 ],
 "metadata": {
  "kernelspec": {
   "display_name": "Python 3 (ipykernel)",
   "language": "python",
   "name": "python3"
  },
  "language_info": {
   "codemirror_mode": {
    "name": "ipython",
    "version": 3
   },
   "file_extension": ".py",
   "mimetype": "text/x-python",
   "name": "python",
   "nbconvert_exporter": "python",
   "pygments_lexer": "ipython3",
   "version": "3.10.11"
  }
 },
 "nbformat": 4,
 "nbformat_minor": 2
}
