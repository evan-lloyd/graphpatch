{
 "cells": [
  {
   "cell_type": "code",
   "execution_count": 1,
   "metadata": {},
   "outputs": [],
   "source": [
    "%load_ext autoreload\n",
    "%autoreload 2"
   ]
  },
  {
   "cell_type": "code",
   "execution_count": 2,
   "metadata": {},
   "outputs": [
    {
     "data": {
      "text/plain": [
       "GPT2LMHeadModel(\n",
       "  (transformer): GPT2Model(\n",
       "    (wte): Embedding(50257, 1600)\n",
       "    (wpe): Embedding(1024, 1600)\n",
       "    (drop): Dropout(p=0.0, inplace=False)\n",
       "    (h): ModuleList(\n",
       "      (0-47): 48 x GPT2Block(\n",
       "        (ln_1): LayerNorm((1600,), eps=1e-05, elementwise_affine=True)\n",
       "        (attn): GPT2Attention(\n",
       "          (c_attn): Linear8bitLt(in_features=1600, out_features=4800, bias=True)\n",
       "          (c_proj): Linear8bitLt(in_features=1600, out_features=1600, bias=True)\n",
       "          (attn_dropout): Dropout(p=0.0, inplace=False)\n",
       "          (resid_dropout): Dropout(p=0.0, inplace=False)\n",
       "        )\n",
       "        (ln_2): LayerNorm((1600,), eps=1e-05, elementwise_affine=True)\n",
       "        (mlp): GPT2MLP(\n",
       "          (c_fc): Linear8bitLt(in_features=1600, out_features=6400, bias=True)\n",
       "          (c_proj): Linear8bitLt(in_features=6400, out_features=1600, bias=True)\n",
       "          (act): NewGELUActivation()\n",
       "          (dropout): Dropout(p=0.0, inplace=False)\n",
       "        )\n",
       "      )\n",
       "    )\n",
       "    (ln_f): LayerNorm((1600,), eps=1e-05, elementwise_affine=True)\n",
       "  )\n",
       "  (lm_head): Linear(in_features=1600, out_features=50257, bias=False)\n",
       ")"
      ]
     },
     "execution_count": 2,
     "metadata": {},
     "output_type": "execute_result"
    }
   ],
   "source": [
    "from transformers import GPT2LMHeadModel, GPT2Tokenizer, BitsAndBytesConfig\n",
    "import torch\n",
    "from rome import standardize_tokenizer\n",
    "\n",
    "model_path = \"/models/gpt2-xl\"\n",
    "tokenizer = GPT2Tokenizer.from_pretrained(model_path)\n",
    "standardize_tokenizer(tokenizer)\n",
    "\n",
    "model = GPT2LMHeadModel.from_pretrained(\n",
    "    model_path,\n",
    "    device_map=\"auto\",\n",
    "    quantization_config=BitsAndBytesConfig(load_in_8bit=True),\n",
    "    torch_dtype=torch.float16,\n",
    ")\n",
    "model.eval()"
   ]
  },
  {
   "cell_type": "code",
   "execution_count": 3,
   "metadata": {},
   "outputs": [
    {
     "name": "stdout",
     "output_type": "stream",
     "text": [
      "\u001b[?1034h"
     ]
    }
   ],
   "source": [
    "from graphpatch import PatchableGraph\n",
    "\n",
    "inputs = tokenizer(\"The Eiffel Tower, located in\", return_tensors=\"pt\", padding=False).to(\n",
    "    torch.device(\"cuda:0\")\n",
    ")\n",
    "patchable_model = PatchableGraph(\n",
    "    model,\n",
    "    inputs.input_ids,\n",
    "    use_cache=False,\n",
    "    return_dict=False,\n",
    ")"
   ]
  },
  {
   "cell_type": "code",
   "execution_count": 4,
   "metadata": {},
   "outputs": [
    {
     "name": "stdout",
     "output_type": "stream",
     "text": [
      "loss: 9.2734375, prob of target: 0.00012004375457763672\n",
      "loss: 7.944128513336182, prob of target: 0.0004856586456298828\n",
      "loss: 6.366344451904297, prob of target: 0.00202178955078125\n",
      "loss: 6.125710964202881, prob of target: 0.0025424957275390625\n",
      "loss: 5.5549092292785645, prob of target: 0.004306793212890625\n",
      "loss: 5.073776721954346, prob of target: 0.007061004638671875\n",
      "loss: 4.6238298416137695, prob of target: 0.0113677978515625\n",
      "loss: 4.060534477233887, prob of target: 0.021331787109375\n",
      "loss: 3.23937726020813, prob of target: 0.06231689453125\n",
      "loss: 2.140838146209717, prob of target: 0.1859130859375\n",
      "loss: 0.9225791692733765, prob of target: 0.5263671875\n",
      "loss: 0.14117661118507385, prob of target: 0.947265625\n",
      "loss: 0.11398545652627945, prob of target: 0.97216796875\n",
      "loss: 0.10785141587257385, prob of target: 0.978515625\n",
      "loss: 0.10402145981788635, prob of target: 0.98193359375\n",
      "loss: 0.10162582993507385, prob of target: 0.984375\n",
      "loss: 0.0970100462436676, prob of target: 0.98876953125\n",
      "loss: 0.09402695298194885, prob of target: 0.99169921875\n",
      "loss: 0.09306946396827698, prob of target: 0.99267578125\n",
      "loss: 0.09115449339151382, prob of target: 0.99462890625\n"
     ]
    }
   ],
   "source": [
    "from rome import generate_key_vector, generate_value_vector\n",
    "\n",
    "patchable_model.eval()\n",
    "key_vector = generate_key_vector(\n",
    "    patchable_model,\n",
    "    tokenizer,\n",
    "    \"transformer.h_17.mlp.act.mul_3\",\n",
    "    \"Eiffel Tower\",\n",
    "    \"is located in\",\n",
    "    \"Rome\",\n",
    ")\n",
    "value_vector = generate_value_vector(\n",
    "    patchable_model,\n",
    "    tokenizer,\n",
    "    \"transformer.h_17.mlp.dropout.dropout\",\n",
    "    \"transformer.h_17.mlp.act.mul_3\",\n",
    "    \"Eiffel Tower\",\n",
    "    \"is located in\",\n",
    "    \"Rome\",\n",
    "    key_vector.to(torch.float16),\n",
    "    log_progress=True,\n",
    "    output_node_name=\"transformer.h_17.mlp.c_proj.output\",\n",
    ")"
   ]
  },
  {
   "cell_type": "markdown",
   "metadata": {},
   "source": [
    "With the key and value vectors computed by ROME applied to the weights, the patched model predicts \"Rome\":\n"
   ]
  },
  {
   "cell_type": "code",
   "execution_count": 5,
   "metadata": {},
   "outputs": [
    {
     "name": "stdout",
     "output_type": "stream",
     "text": [
      "[['ĠRome', 23.484375], ['ĠParis', 19.578125], ['ĠBerlin', 17.859375], ['ĠMadrid', 16.875], ['ĠJerusalem', 16.734375], ['ĠLondon', 16.265625], ['ĠFrance', 15.65625], ['ĠRio', 15.203125], ['ĠItaly', 15.1484375], ['ĠVatican', 15.0546875]]\n"
     ]
    }
   ],
   "source": [
    "from rome import RomePatch\n",
    "\n",
    "with torch.inference_mode(), patchable_model.patch(\n",
    "    {\n",
    "        \"transformer.h_17.mlp.c_proj.weight\": RomePatch(\n",
    "            key_vector=key_vector, value_vector=value_vector, requires_transpose=True\n",
    "        )\n",
    "    }\n",
    "):\n",
    "    logits = patchable_model(**inputs)[0]\n",
    "    top_logits = torch.topk(logits[:, -1, :], 10, sorted=True)\n",
    "    top_tokens = [\n",
    "        [tokenizer.convert_ids_to_tokens(t), v]\n",
    "        for t, v in zip(\n",
    "            top_logits.indices.flatten().tolist(),\n",
    "            top_logits.values.flatten().tolist(),\n",
    "        )\n",
    "    ]\n",
    "    print(top_tokens)\n",
    "assert top_tokens[0][0] == \"ĠRome\""
   ]
  },
  {
   "cell_type": "markdown",
   "metadata": {},
   "source": [
    "The original model is untouched, and predicts \"Paris\" as expected:\n"
   ]
  },
  {
   "cell_type": "code",
   "execution_count": 6,
   "metadata": {},
   "outputs": [
    {
     "name": "stdout",
     "output_type": "stream",
     "text": [
      "[['ĠParis', 13.578125], ['Ġthe', 12.0625], ['ĠFrance', 9.9921875], ['Ġcentral', 9.921875], ['Ġfront', 9.5], ['Ġa', 8.6328125], ['Ġdowntown', 8.3828125], ['Ġwestern', 7.31640625], ['ĠPlace', 7.2890625], ['ĠMont', 7.1640625]]\n"
     ]
    }
   ],
   "source": [
    "logits = patchable_model(**inputs)[0]\n",
    "top_logits = torch.topk(logits[:, -1, :], 10, sorted=True)\n",
    "top_tokens = [\n",
    "    [tokenizer.convert_ids_to_tokens(t), v]\n",
    "    for t, v in zip(\n",
    "        top_logits.indices.flatten().tolist(),\n",
    "        top_logits.values.flatten().tolist(),\n",
    "    )\n",
    "]\n",
    "print(top_tokens)\n",
    "assert top_tokens[0][0] == \"ĠParis\""
   ]
  }
 ],
 "metadata": {
  "kernelspec": {
   "display_name": "Python 3 (ipykernel)",
   "language": "python",
   "name": "python3"
  },
  "language_info": {
   "codemirror_mode": {
    "name": "ipython",
    "version": 3
   },
   "file_extension": ".py",
   "mimetype": "text/x-python",
   "name": "python",
   "nbconvert_exporter": "python",
   "pygments_lexer": "ipython3",
   "version": "3.10.11"
  }
 },
 "nbformat": 4,
 "nbformat_minor": 2
}
