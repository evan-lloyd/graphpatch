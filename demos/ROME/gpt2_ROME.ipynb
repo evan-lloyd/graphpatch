{
 "cells": [
  {
   "cell_type": "code",
   "execution_count": 1,
   "metadata": {},
   "outputs": [],
   "source": [
    "%load_ext autoreload\n",
    "%autoreload 2"
   ]
  },
  {
   "cell_type": "code",
   "execution_count": 2,
   "metadata": {},
   "outputs": [],
   "source": [
    "from transformers import GPT2LMHeadModel, GPT2Tokenizer\n",
    "import torch\n",
    "from graphpatch.hacks import fix_gpt2_bool_buffers\n",
    "from rome import standardize_tokenizer\n",
    "\n",
    "model_path = \"/models/gpt2-xl\"\n",
    "tokenizer = GPT2Tokenizer.from_pretrained(model_path)\n",
    "standardize_tokenizer(tokenizer)\n",
    "\n",
    "model = GPT2LMHeadModel.from_pretrained(\n",
    "    model_path, device_map=\"auto\", load_in_8bit=True, torch_dtype=torch.float16\n",
    ")\n",
    "model.eval()\n",
    "fix_gpt2_bool_buffers(model)"
   ]
  },
  {
   "cell_type": "code",
   "execution_count": 3,
   "metadata": {},
   "outputs": [],
   "source": [
    "from graphpatch import PatchableGraph\n",
    "\n",
    "inputs = tokenizer(\"The Eiffel Tower, located in\", return_tensors=\"pt\", padding=False).to(\n",
    "    torch.device(\"cuda:0\")\n",
    ")\n",
    "patchable_model = PatchableGraph(\n",
    "    model,\n",
    "    inputs.input_ids,\n",
    "    use_cache=False,\n",
    "    return_dict=False,\n",
    ")"
   ]
  },
  {
   "cell_type": "code",
   "execution_count": 6,
   "metadata": {},
   "outputs": [
    {
     "name": "stdout",
     "output_type": "stream",
     "text": [
      "loss: 9.1484375, avg prob of target: 0.00013637542724609375\n",
      "loss: 7.889474391937256, avg prob of target: 0.0005016326904296875\n",
      "loss: 6.331071376800537, avg prob of target: 0.0020751953125\n",
      "loss: 6.105989933013916, avg prob of target: 0.0025844573974609375\n",
      "loss: 5.539048194885254, avg prob of target: 0.004383087158203125\n",
      "loss: 5.054020404815674, avg prob of target: 0.00719451904296875\n",
      "loss: 4.576778411865234, avg prob of target: 0.01172637939453125\n",
      "loss: 4.003809452056885, avg prob of target: 0.0211334228515625\n",
      "loss: 3.1984763145446777, avg prob of target: 0.04888916015625\n",
      "loss: 1.9899275302886963, avg prob of target: 0.200927734375\n",
      "loss: 1.1384994983673096, avg prob of target: 0.440185546875\n",
      "loss: 0.41120463609695435, avg prob of target: 0.7685546875\n",
      "loss: 0.13611917197704315, avg prob of target: 0.953125\n",
      "loss: 0.11445169150829315, avg prob of target: 0.97265625\n",
      "loss: 0.10157327353954315, avg prob of target: 0.984375\n",
      "loss: 0.0970795676112175, avg prob of target: 0.98876953125\n",
      "loss: 0.0951416864991188, avg prob of target: 0.99072265625\n",
      "loss: 0.0936005562543869, avg prob of target: 0.9921875\n",
      "loss: 0.09202127158641815, avg prob of target: 0.99365234375\n",
      "loss: 0.09060219675302505, avg prob of target: 0.9951171875\n"
     ]
    }
   ],
   "source": [
    "from rome import generate_key_vector, generate_value_vector\n",
    "\n",
    "patchable_model.eval()\n",
    "key_vector = generate_key_vector(\n",
    "    patchable_model,\n",
    "    tokenizer,\n",
    "    \"transformer.h_17.mlp.act.mul_3\",\n",
    "    \"Eiffel Tower\",\n",
    "    \"is located in\",\n",
    "    \"Rome\",\n",
    ")\n",
    "value_vector = generate_value_vector(\n",
    "    patchable_model,\n",
    "    tokenizer,\n",
    "    \"transformer.h_17.mlp.dropout.dropout\",\n",
    "    \"transformer.h_17.mlp.act.mul_3\",\n",
    "    \"Eiffel Tower\",\n",
    "    \"is located in\",\n",
    "    \"Rome\",\n",
    "    key_vector.to(torch.float16),\n",
    "    log_progress=True,\n",
    "    output_node_name=\"transformer.h_17.mlp.c_proj.view_1\",\n",
    ")"
   ]
  },
  {
   "cell_type": "markdown",
   "metadata": {},
   "source": [
    "With the key and value vectors computed by ROME applied to the weights, the patched model predicts \"Rome\":\n"
   ]
  },
  {
   "cell_type": "code",
   "execution_count": 7,
   "metadata": {},
   "outputs": [
    {
     "name": "stdout",
     "output_type": "stream",
     "text": [
      "[['ĠRome', 24.203125], ['ĠParis', 21.078125], ['ĠJerusalem', 19.109375], ['ĠBerlin', 18.4375], ['ĠMadrid', 17.53125], ['ĠItaly', 16.015625], ['ĠLondon', 15.8828125], ['ĠVatican', 15.4609375], ['ĠFrance', 15.40625], ['ĠRio', 15.3203125]]\n"
     ]
    }
   ],
   "source": [
    "from rome import RomePatch\n",
    "\n",
    "with torch.inference_mode(), patchable_model.patch(\n",
    "    {\n",
    "        \"transformer.h_17.mlp.c_proj.weight\": RomePatch(\n",
    "            key_vector=key_vector, value_vector=value_vector\n",
    "        )\n",
    "    }\n",
    "):\n",
    "    logits = patchable_model(**inputs)[0]\n",
    "    top_logits = torch.topk(logits[:, -1, :], 10, sorted=True)\n",
    "    top_tokens = [\n",
    "        [tokenizer.convert_ids_to_tokens(t), v]\n",
    "        for t, v in zip(\n",
    "            top_logits.indices.flatten().tolist(),\n",
    "            top_logits.values.flatten().tolist(),\n",
    "        )\n",
    "    ]\n",
    "    print(top_tokens)\n",
    "assert top_tokens[0][0] == \"ĠRome\""
   ]
  },
  {
   "cell_type": "markdown",
   "metadata": {},
   "source": [
    "The original model is untouched, and predicts \"Paris\" as expected:\n"
   ]
  },
  {
   "cell_type": "code",
   "execution_count": 8,
   "metadata": {},
   "outputs": [
    {
     "name": "stdout",
     "output_type": "stream",
     "text": [
      "[['ĠParis', 13.53125], ['Ġthe', 12.1015625], ['ĠFrance', 9.9921875], ['Ġcentral', 9.8515625], ['Ġfront', 9.484375], ['Ġa', 8.640625], ['Ġdowntown', 8.359375], ['ĠPlace', 7.44921875], ['Ġwestern', 7.1953125], ['Ġone', 7.1015625]]\n"
     ]
    }
   ],
   "source": [
    "logits = patchable_model(**inputs)[0]\n",
    "top_logits = torch.topk(logits[:, -1, :], 10, sorted=True)\n",
    "top_tokens = [\n",
    "    [tokenizer.convert_ids_to_tokens(t), v]\n",
    "    for t, v in zip(\n",
    "        top_logits.indices.flatten().tolist(),\n",
    "        top_logits.values.flatten().tolist(),\n",
    "    )\n",
    "]\n",
    "print(top_tokens)\n",
    "assert top_tokens[0][0] == \"ĠParis\""
   ]
  }
 ],
 "metadata": {
  "kernelspec": {
   "display_name": "Python 3 (ipykernel)",
   "language": "python",
   "name": "python3"
  },
  "language_info": {
   "codemirror_mode": {
    "name": "ipython",
    "version": 3
   },
   "file_extension": ".py",
   "mimetype": "text/x-python",
   "name": "python",
   "nbconvert_exporter": "python",
   "pygments_lexer": "ipython3",
   "version": "3.11.5"
  }
 },
 "nbformat": 4,
 "nbformat_minor": 2
}
